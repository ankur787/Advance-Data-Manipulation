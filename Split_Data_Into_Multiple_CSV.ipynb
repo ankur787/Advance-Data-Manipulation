{
 "cells": [
  {
   "cell_type": "code",
   "execution_count": 1,
   "id": "pretty-motel",
   "metadata": {},
   "outputs": [],
   "source": [
    "import pandas as pd\n",
    "import numpy as np\n",
    "import math"
   ]
  },
  {
   "cell_type": "code",
   "execution_count": 2,
   "id": "diverse-shield",
   "metadata": {},
   "outputs": [],
   "source": [
    "df = pd.read_csv('QLD_Mobile.csv', encoding='latin-1')"
   ]
  },
  {
   "cell_type": "code",
   "execution_count": 3,
   "id": "editorial-genre",
   "metadata": {},
   "outputs": [],
   "source": [
    "df = df.loc[:,:'Cellphone']"
   ]
  },
  {
   "cell_type": "code",
   "execution_count": 11,
   "id": "reverse-navigation",
   "metadata": {},
   "outputs": [
    {
     "data": {
      "text/html": [
       "<div>\n",
       "<style scoped>\n",
       "    .dataframe tbody tr th:only-of-type {\n",
       "        vertical-align: middle;\n",
       "    }\n",
       "\n",
       "    .dataframe tbody tr th {\n",
       "        vertical-align: top;\n",
       "    }\n",
       "\n",
       "    .dataframe thead th {\n",
       "        text-align: right;\n",
       "    }\n",
       "</style>\n",
       "<table border=\"1\" class=\"dataframe\">\n",
       "  <thead>\n",
       "    <tr style=\"text-align: right;\">\n",
       "      <th></th>\n",
       "      <th>Phone</th>\n",
       "      <th>Title</th>\n",
       "      <th>FirstName</th>\n",
       "      <th>LastName</th>\n",
       "      <th>StreetAddress</th>\n",
       "      <th>City</th>\n",
       "      <th>States</th>\n",
       "      <th>PostCode</th>\n",
       "    </tr>\n",
       "  </thead>\n",
       "  <tbody>\n",
       "    <tr>\n",
       "      <th>0</th>\n",
       "      <td>61419532258</td>\n",
       "      <td>NaN</td>\n",
       "      <td>Clare</td>\n",
       "      <td>Pullar</td>\n",
       "      <td>Unit 5  35 Buchanan St</td>\n",
       "      <td>WEST END</td>\n",
       "      <td>QLD</td>\n",
       "      <td>4101.0</td>\n",
       "    </tr>\n",
       "    <tr>\n",
       "      <th>1</th>\n",
       "      <td>61439774023</td>\n",
       "      <td>Ms</td>\n",
       "      <td>Fiona</td>\n",
       "      <td>Balkin</td>\n",
       "      <td>PO Box 839</td>\n",
       "      <td>GLADSTONE BC</td>\n",
       "      <td>QLD</td>\n",
       "      <td>4680.0</td>\n",
       "    </tr>\n",
       "    <tr>\n",
       "      <th>2</th>\n",
       "      <td>61415773269</td>\n",
       "      <td>Bronwyn</td>\n",
       "      <td>Carstairs Bronwyn</td>\n",
       "      <td>Carstairs</td>\n",
       "      <td>7 Franklin St</td>\n",
       "      <td>Wakerley</td>\n",
       "      <td>QLD</td>\n",
       "      <td>4154.0</td>\n",
       "    </tr>\n",
       "    <tr>\n",
       "      <th>3</th>\n",
       "      <td>61425841360</td>\n",
       "      <td>P</td>\n",
       "      <td>P</td>\n",
       "      <td>Conway</td>\n",
       "      <td>12 Lollard St</td>\n",
       "      <td>Mile End</td>\n",
       "      <td>QLD</td>\n",
       "      <td>NaN</td>\n",
       "    </tr>\n",
       "    <tr>\n",
       "      <th>4</th>\n",
       "      <td>61412689204</td>\n",
       "      <td>F</td>\n",
       "      <td>Margaret.</td>\n",
       "      <td>Thomas</td>\n",
       "      <td>17 Gretel Drive Beachmere Qld,australia</td>\n",
       "      <td>Beachmere</td>\n",
       "      <td>QLD</td>\n",
       "      <td>4510.0</td>\n",
       "    </tr>\n",
       "  </tbody>\n",
       "</table>\n",
       "</div>"
      ],
      "text/plain": [
       "         Phone    Title          FirstName   LastName  \\\n",
       "0  61419532258      NaN              Clare     Pullar   \n",
       "1  61439774023       Ms              Fiona     Balkin   \n",
       "2  61415773269  Bronwyn  Carstairs Bronwyn  Carstairs   \n",
       "3  61425841360        P                  P     Conway   \n",
       "4  61412689204        F          Margaret.     Thomas   \n",
       "\n",
       "                             StreetAddress          City States  PostCode  \n",
       "0                   Unit 5  35 Buchanan St      WEST END    QLD    4101.0  \n",
       "1                               PO Box 839  GLADSTONE BC    QLD    4680.0  \n",
       "2                            7 Franklin St      Wakerley    QLD    4154.0  \n",
       "3                            12 Lollard St      Mile End    QLD       NaN  \n",
       "4  17 Gretel Drive Beachmere Qld,australia     Beachmere    QLD    4510.0  "
      ]
     },
     "execution_count": 11,
     "metadata": {},
     "output_type": "execute_result"
    }
   ],
   "source": [
    "df.head()"
   ]
  },
  {
   "cell_type": "code",
   "execution_count": null,
   "id": "other-amount",
   "metadata": {},
   "outputs": [],
   "source": []
  },
  {
   "cell_type": "code",
   "execution_count": 4,
   "id": "common-consideration",
   "metadata": {},
   "outputs": [],
   "source": [
    "df['Country_Code'] = '61'\n",
    "df['Cellphone'] = df['Cellphone'].astype(str)\n",
    "df['Cellphone'] = df['Country_Code']+df['Cellphone']\n",
    "df.drop('Country_Code', axis= 1, inplace= True)\n",
    "df['Cellphone'] = df['Cellphone'].astype('int64')"
   ]
  },
  {
   "cell_type": "code",
   "execution_count": 5,
   "id": "greatest-unknown",
   "metadata": {},
   "outputs": [
    {
     "data": {
      "text/plain": [
       "Index(['Title', 'FirstName', 'LastName', 'StreetAddress', 'City', 'States',\n",
       "       'PostCode', 'Cellphone'],\n",
       "      dtype='object')"
      ]
     },
     "execution_count": 5,
     "metadata": {},
     "output_type": "execute_result"
    }
   ],
   "source": [
    "df.columns"
   ]
  },
  {
   "cell_type": "code",
   "execution_count": 6,
   "id": "supported-problem",
   "metadata": {},
   "outputs": [],
   "source": [
    "df = df [['Cellphone','Title', 'FirstName', 'LastName', 'StreetAddress', 'City', 'States', 'PostCode']]"
   ]
  },
  {
   "cell_type": "code",
   "execution_count": 7,
   "id": "valued-myanmar",
   "metadata": {},
   "outputs": [],
   "source": [
    "df.rename(columns={'Cellphone':'Phone'}, inplace=True)"
   ]
  },
  {
   "cell_type": "code",
   "execution_count": 8,
   "id": "visible-yemen",
   "metadata": {},
   "outputs": [],
   "source": [
    "a = df.shape[0]\n",
    "b = 21000\n",
    "c = a/b\n",
    "c = math.ceil(c)"
   ]
  },
  {
   "cell_type": "code",
   "execution_count": 9,
   "id": "potential-moisture",
   "metadata": {},
   "outputs": [],
   "source": [
    "df_split= np.array_split(df, c)"
   ]
  },
  {
   "cell_type": "code",
   "execution_count": 10,
   "id": "dutch-category",
   "metadata": {},
   "outputs": [],
   "source": [
    "for i in range(c):\n",
    "    for x in df_split:\n",
    "        d =  pd.DataFrame(df_split[i])\n",
    "        d.to_csv('QLD_Cellphone_0'+str(i+1)+\".csv\", index= False)"
   ]
  },
  {
   "cell_type": "code",
   "execution_count": null,
   "id": "valued-cooler",
   "metadata": {},
   "outputs": [],
   "source": []
  }
 ],
 "metadata": {
  "kernelspec": {
   "display_name": "Python 3",
   "language": "python",
   "name": "python3"
  },
  "language_info": {
   "codemirror_mode": {
    "name": "ipython",
    "version": 3
   },
   "file_extension": ".py",
   "mimetype": "text/x-python",
   "name": "python",
   "nbconvert_exporter": "python",
   "pygments_lexer": "ipython3",
   "version": "3.7.9"
  }
 },
 "nbformat": 4,
 "nbformat_minor": 5
}
